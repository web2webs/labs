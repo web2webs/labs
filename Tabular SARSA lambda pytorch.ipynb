{
  "nbformat": 4,
  "nbformat_minor": 0,
  "metadata": {
    "colab": {
      "name": "Untitled34.ipynb",
      "provenance": [],
      "authorship_tag": "ABX9TyMJ2KgH/mVtErJPpFdk/gLI",
      "include_colab_link": true
    },
    "kernelspec": {
      "name": "python3",
      "display_name": "Python 3"
    },
    "language_info": {
      "name": "python"
    },
    "accelerator": "GPU",
    "gpuClass": "standard",
    "widgets": {
      "application/vnd.jupyter.widget-state+json": {
        "3676dbbc28c94978b29babf89b61d7f9": {
          "model_module": "@jupyter-widgets/controls",
          "model_name": "HBoxModel",
          "model_module_version": "1.5.0",
          "state": {
            "_dom_classes": [],
            "_model_module": "@jupyter-widgets/controls",
            "_model_module_version": "1.5.0",
            "_model_name": "HBoxModel",
            "_view_count": null,
            "_view_module": "@jupyter-widgets/controls",
            "_view_module_version": "1.5.0",
            "_view_name": "HBoxView",
            "box_style": "",
            "children": [
              "IPY_MODEL_d00148d7cea64ab8b596238248f659cb",
              "IPY_MODEL_7a951770e24743cf802f099b82a874b6",
              "IPY_MODEL_7ff22ee6c26444f194cf06568ec2bea7"
            ],
            "layout": "IPY_MODEL_7afb07f177f34245821bdec4b59f1161"
          }
        },
        "d00148d7cea64ab8b596238248f659cb": {
          "model_module": "@jupyter-widgets/controls",
          "model_name": "HTMLModel",
          "model_module_version": "1.5.0",
          "state": {
            "_dom_classes": [],
            "_model_module": "@jupyter-widgets/controls",
            "_model_module_version": "1.5.0",
            "_model_name": "HTMLModel",
            "_view_count": null,
            "_view_module": "@jupyter-widgets/controls",
            "_view_module_version": "1.5.0",
            "_view_name": "HTMLView",
            "description": "",
            "description_tooltip": null,
            "layout": "IPY_MODEL_4a2f554f45a64c92be3a4b9c442f3a3f",
            "placeholder": "​",
            "style": "IPY_MODEL_cfd433bf376f4c29aee220a1d47cf86a",
            "value": "100%"
          }
        },
        "7a951770e24743cf802f099b82a874b6": {
          "model_module": "@jupyter-widgets/controls",
          "model_name": "FloatProgressModel",
          "model_module_version": "1.5.0",
          "state": {
            "_dom_classes": [],
            "_model_module": "@jupyter-widgets/controls",
            "_model_module_version": "1.5.0",
            "_model_name": "FloatProgressModel",
            "_view_count": null,
            "_view_module": "@jupyter-widgets/controls",
            "_view_module_version": "1.5.0",
            "_view_name": "ProgressView",
            "bar_style": "success",
            "description": "",
            "description_tooltip": null,
            "layout": "IPY_MODEL_5dc582d13b8f42b2a9f537f76bbac5b7",
            "max": 1000,
            "min": 0,
            "orientation": "horizontal",
            "style": "IPY_MODEL_0ff163d5eec64ac8a450f367e1ae8c09",
            "value": 1000
          }
        },
        "7ff22ee6c26444f194cf06568ec2bea7": {
          "model_module": "@jupyter-widgets/controls",
          "model_name": "HTMLModel",
          "model_module_version": "1.5.0",
          "state": {
            "_dom_classes": [],
            "_model_module": "@jupyter-widgets/controls",
            "_model_module_version": "1.5.0",
            "_model_name": "HTMLModel",
            "_view_count": null,
            "_view_module": "@jupyter-widgets/controls",
            "_view_module_version": "1.5.0",
            "_view_name": "HTMLView",
            "description": "",
            "description_tooltip": null,
            "layout": "IPY_MODEL_e0ae304a32b446d881e018a5d7d8810f",
            "placeholder": "​",
            "style": "IPY_MODEL_3dd1899e6cd848fc98fde02bd52b12bc",
            "value": " 1000/1000 [00:31&lt;00:00, 78.92it/s]"
          }
        },
        "7afb07f177f34245821bdec4b59f1161": {
          "model_module": "@jupyter-widgets/base",
          "model_name": "LayoutModel",
          "model_module_version": "1.2.0",
          "state": {
            "_model_module": "@jupyter-widgets/base",
            "_model_module_version": "1.2.0",
            "_model_name": "LayoutModel",
            "_view_count": null,
            "_view_module": "@jupyter-widgets/base",
            "_view_module_version": "1.2.0",
            "_view_name": "LayoutView",
            "align_content": null,
            "align_items": null,
            "align_self": null,
            "border": null,
            "bottom": null,
            "display": null,
            "flex": null,
            "flex_flow": null,
            "grid_area": null,
            "grid_auto_columns": null,
            "grid_auto_flow": null,
            "grid_auto_rows": null,
            "grid_column": null,
            "grid_gap": null,
            "grid_row": null,
            "grid_template_areas": null,
            "grid_template_columns": null,
            "grid_template_rows": null,
            "height": null,
            "justify_content": null,
            "justify_items": null,
            "left": null,
            "margin": null,
            "max_height": null,
            "max_width": null,
            "min_height": null,
            "min_width": null,
            "object_fit": null,
            "object_position": null,
            "order": null,
            "overflow": null,
            "overflow_x": null,
            "overflow_y": null,
            "padding": null,
            "right": null,
            "top": null,
            "visibility": null,
            "width": null
          }
        },
        "4a2f554f45a64c92be3a4b9c442f3a3f": {
          "model_module": "@jupyter-widgets/base",
          "model_name": "LayoutModel",
          "model_module_version": "1.2.0",
          "state": {
            "_model_module": "@jupyter-widgets/base",
            "_model_module_version": "1.2.0",
            "_model_name": "LayoutModel",
            "_view_count": null,
            "_view_module": "@jupyter-widgets/base",
            "_view_module_version": "1.2.0",
            "_view_name": "LayoutView",
            "align_content": null,
            "align_items": null,
            "align_self": null,
            "border": null,
            "bottom": null,
            "display": null,
            "flex": null,
            "flex_flow": null,
            "grid_area": null,
            "grid_auto_columns": null,
            "grid_auto_flow": null,
            "grid_auto_rows": null,
            "grid_column": null,
            "grid_gap": null,
            "grid_row": null,
            "grid_template_areas": null,
            "grid_template_columns": null,
            "grid_template_rows": null,
            "height": null,
            "justify_content": null,
            "justify_items": null,
            "left": null,
            "margin": null,
            "max_height": null,
            "max_width": null,
            "min_height": null,
            "min_width": null,
            "object_fit": null,
            "object_position": null,
            "order": null,
            "overflow": null,
            "overflow_x": null,
            "overflow_y": null,
            "padding": null,
            "right": null,
            "top": null,
            "visibility": null,
            "width": null
          }
        },
        "cfd433bf376f4c29aee220a1d47cf86a": {
          "model_module": "@jupyter-widgets/controls",
          "model_name": "DescriptionStyleModel",
          "model_module_version": "1.5.0",
          "state": {
            "_model_module": "@jupyter-widgets/controls",
            "_model_module_version": "1.5.0",
            "_model_name": "DescriptionStyleModel",
            "_view_count": null,
            "_view_module": "@jupyter-widgets/base",
            "_view_module_version": "1.2.0",
            "_view_name": "StyleView",
            "description_width": ""
          }
        },
        "5dc582d13b8f42b2a9f537f76bbac5b7": {
          "model_module": "@jupyter-widgets/base",
          "model_name": "LayoutModel",
          "model_module_version": "1.2.0",
          "state": {
            "_model_module": "@jupyter-widgets/base",
            "_model_module_version": "1.2.0",
            "_model_name": "LayoutModel",
            "_view_count": null,
            "_view_module": "@jupyter-widgets/base",
            "_view_module_version": "1.2.0",
            "_view_name": "LayoutView",
            "align_content": null,
            "align_items": null,
            "align_self": null,
            "border": null,
            "bottom": null,
            "display": null,
            "flex": null,
            "flex_flow": null,
            "grid_area": null,
            "grid_auto_columns": null,
            "grid_auto_flow": null,
            "grid_auto_rows": null,
            "grid_column": null,
            "grid_gap": null,
            "grid_row": null,
            "grid_template_areas": null,
            "grid_template_columns": null,
            "grid_template_rows": null,
            "height": null,
            "justify_content": null,
            "justify_items": null,
            "left": null,
            "margin": null,
            "max_height": null,
            "max_width": null,
            "min_height": null,
            "min_width": null,
            "object_fit": null,
            "object_position": null,
            "order": null,
            "overflow": null,
            "overflow_x": null,
            "overflow_y": null,
            "padding": null,
            "right": null,
            "top": null,
            "visibility": null,
            "width": null
          }
        },
        "0ff163d5eec64ac8a450f367e1ae8c09": {
          "model_module": "@jupyter-widgets/controls",
          "model_name": "ProgressStyleModel",
          "model_module_version": "1.5.0",
          "state": {
            "_model_module": "@jupyter-widgets/controls",
            "_model_module_version": "1.5.0",
            "_model_name": "ProgressStyleModel",
            "_view_count": null,
            "_view_module": "@jupyter-widgets/base",
            "_view_module_version": "1.2.0",
            "_view_name": "StyleView",
            "bar_color": null,
            "description_width": ""
          }
        },
        "e0ae304a32b446d881e018a5d7d8810f": {
          "model_module": "@jupyter-widgets/base",
          "model_name": "LayoutModel",
          "model_module_version": "1.2.0",
          "state": {
            "_model_module": "@jupyter-widgets/base",
            "_model_module_version": "1.2.0",
            "_model_name": "LayoutModel",
            "_view_count": null,
            "_view_module": "@jupyter-widgets/base",
            "_view_module_version": "1.2.0",
            "_view_name": "LayoutView",
            "align_content": null,
            "align_items": null,
            "align_self": null,
            "border": null,
            "bottom": null,
            "display": null,
            "flex": null,
            "flex_flow": null,
            "grid_area": null,
            "grid_auto_columns": null,
            "grid_auto_flow": null,
            "grid_auto_rows": null,
            "grid_column": null,
            "grid_gap": null,
            "grid_row": null,
            "grid_template_areas": null,
            "grid_template_columns": null,
            "grid_template_rows": null,
            "height": null,
            "justify_content": null,
            "justify_items": null,
            "left": null,
            "margin": null,
            "max_height": null,
            "max_width": null,
            "min_height": null,
            "min_width": null,
            "object_fit": null,
            "object_position": null,
            "order": null,
            "overflow": null,
            "overflow_x": null,
            "overflow_y": null,
            "padding": null,
            "right": null,
            "top": null,
            "visibility": null,
            "width": null
          }
        },
        "3dd1899e6cd848fc98fde02bd52b12bc": {
          "model_module": "@jupyter-widgets/controls",
          "model_name": "DescriptionStyleModel",
          "model_module_version": "1.5.0",
          "state": {
            "_model_module": "@jupyter-widgets/controls",
            "_model_module_version": "1.5.0",
            "_model_name": "DescriptionStyleModel",
            "_view_count": null,
            "_view_module": "@jupyter-widgets/base",
            "_view_module_version": "1.2.0",
            "_view_name": "StyleView",
            "description_width": ""
          }
        }
      }
    }
  },
  "cells": [
    {
      "cell_type": "markdown",
      "metadata": {
        "id": "view-in-github",
        "colab_type": "text"
      },
      "source": [
        "<a href=\"https://colab.research.google.com/github/web2webs/labs/blob/main/Tabular%20SARSA%20lambda%20pytorch.ipynb\" target=\"_parent\"><img src=\"https://colab.research.google.com/assets/colab-badge.svg\" alt=\"Open In Colab\"/></a>"
      ]
    },
    {
      "cell_type": "code",
      "source": [
        "import torch\n",
        "from tqdm import tqdm_notebook as tqdm\n",
        "from matplotlib import pyplot"
      ],
      "metadata": {
        "id": "vXAeh_pPW-iF"
      },
      "execution_count": 1,
      "outputs": []
    },
    {
      "cell_type": "code",
      "source": [
        "# generate random value array with source and destination, and size map_size by map_size\n",
        "\n",
        "map_size = 30\n",
        "destination = torch.tensor([int(map_size/2),int(map_size/2)]) #np.random.random_integers(0, map_size-1, 2)\n",
        "\n",
        "reward_map = torch.full((map_size, map_size), -1)\n",
        "\n",
        "BSFD = []\n",
        "BSFD += [[-3,j] for j in range(-3, 5)]\n",
        "BSFD += [[j,-3] for j in range(-3, 5)]\n",
        "print(BSFD)\n",
        "reward_map[destination[0]][destination[1]] = 50\n",
        "for p in BSFD:\n",
        "    reward_map[destination[0] + p[0]][destination[1] + p[1]] = -100\n"
      ],
      "metadata": {
        "colab": {
          "base_uri": "https://localhost:8080/"
        },
        "id": "34x7HqB4hEwu",
        "outputId": "2b921b8b-da5b-4263-e16e-58f4af8a4129"
      },
      "execution_count": 64,
      "outputs": [
        {
          "output_type": "stream",
          "name": "stdout",
          "text": [
            "[[-3, -3], [-3, -2], [-3, -1], [-3, 0], [-3, 1], [-3, 2], [-3, 3], [-3, 4], [-3, -3], [-2, -3], [-1, -3], [0, -3], [1, -3], [2, -3], [3, -3], [4, -3]]\n"
          ]
        }
      ]
    },
    {
      "cell_type": "code",
      "source": [
        "fig, ax = pyplot.subplots()\n",
        "im = ax.imshow(reward_map)"
      ],
      "metadata": {
        "colab": {
          "base_uri": "https://localhost:8080/",
          "height": 266
        },
        "id": "E-5tFLV8jGs8",
        "outputId": "106a1f07-9800-4e2f-884c-eea346d468a9"
      },
      "execution_count": 65,
      "outputs": [
        {
          "output_type": "display_data",
          "data": {
            "text/plain": [
              "<Figure size 432x288 with 1 Axes>"
            ],
            "image/png": "[encoded data removed]"
          },
          "metadata": {
            "needs_background": "light"
          }
        }
      ]
    },
    {
      "cell_type": "code",
      "execution_count": 66,
      "metadata": {
        "colab": {
          "base_uri": "https://localhost:8080/",
          "height": 83,
          "referenced_widgets": [
            "3676dbbc28c94978b29babf89b61d7f9",
            "d00148d7cea64ab8b596238248f659cb",
            "7a951770e24743cf802f099b82a874b6",
            "7ff22ee6c26444f194cf06568ec2bea7",
            "7afb07f177f34245821bdec4b59f1161",
            "4a2f554f45a64c92be3a4b9c442f3a3f",
            "cfd433bf376f4c29aee220a1d47cf86a",
            "5dc582d13b8f42b2a9f537f76bbac5b7",
            "0ff163d5eec64ac8a450f367e1ae8c09",
            "e0ae304a32b446d881e018a5d7d8810f",
            "3dd1899e6cd848fc98fde02bd52b12bc"
          ]
        },
        "id": "tDJX1bI9W4xH",
        "outputId": "ff8feb54-6fc0-417d-fafa-2552f1621eaa"
      },
      "outputs": [
        {
          "output_type": "stream",
          "name": "stderr",
          "text": [
            "/usr/local/lib/python3.7/dist-packages/ipykernel_launcher.py:19: TqdmDeprecationWarning: This function will be removed in tqdm==5.0.0\n",
            "Please use `tqdm.notebook.tqdm` instead of `tqdm.tqdm_notebook`\n"
          ]
        },
        {
          "output_type": "display_data",
          "data": {
            "text/plain": [
              "  0%|          | 0/1000 [00:00<?, ?it/s]"
            ],
            "application/vnd.jupyter.widget-view+json": {
              "version_major": 2,
              "version_minor": 0,
              "model_id": "3676dbbc28c94978b29babf89b61d7f9"
            }
          },
          "metadata": {}
        }
      ],
      "source": [
        "number_actions = 4\n",
        "Q = torch.rand((map_size, map_size, number_actions)) #np.zeros((map_size, map_size, number_actions)) #\n",
        "\n",
        "Actions = torch.tensor([[0, -1], [0, 1],[-1, 0],[1, 0]]) # np.array([[1, 0], [0, 1]]) #\n",
        "eps = 0.1 # not following strategy probability, exploration rate\n",
        "gamma = 0.9 # discount factor\n",
        "alpha = 0.1 # learning rate\n",
        "l = 0.1 # TD learning parameter\n",
        "\n",
        "try:\n",
        "    means.shape\n",
        "    del means\n",
        "    del vars\n",
        "    del cumm_reward\n",
        "except:\n",
        "    print(\"means not created\")\n",
        "\n",
        "#stats = torch.empty((2,1)) #[[], []]\n",
        "for i in tqdm(range(1000)):\n",
        "    #print (\"iteration: \", i)\n",
        "    # initialize the ET (elegibility traces) matrix with zerose\n",
        "    ET = torch.zeros((map_size, map_size, number_actions))\n",
        "    deltas = torch.empty((1,))#[]\n",
        "    while True:\n",
        "        # select starting state\n",
        "        S = torch.randint(0, map_size-1, (2,))\n",
        "        if (destination != S).all():\n",
        "            break\n",
        "    # select random starting action\n",
        "    action_arg = torch.randint(0,number_actions,(1,))\n",
        "    action = Actions[action_arg][0]\n",
        "    cum_r = 0\n",
        "    while (destination != S).any():\n",
        "        # take action A in state S to move to next state new_S\n",
        "        new_S = (S + action + map_size)%map_size\n",
        "        #print(\"New S: \", new_S)\n",
        "        \"\"\"\n",
        "        if (destination == new_S).all() :\n",
        "            reward = 5\n",
        "        else:\n",
        "            reward = -1\n",
        "        \"\"\"\n",
        "        reward = reward_map[new_S[0], new_S[1]]\n",
        "        \n",
        "        cum_r+=reward\n",
        "        # Select the best action in new_state following the Q function and the epsilon gredy strategy \n",
        "        #from_Q = np.random.choice([True, False], p= [1-eps, eps])\n",
        "        from_Q = torch.bernoulli(torch.tensor([1-eps])).any()\n",
        "        \n",
        "        if from_Q:\n",
        "            \n",
        "            new_action_arg = torch.argmax(Q[new_S[0], new_S[1]])\n",
        "            #print(\"\\n A: \", new_action_arg)\n",
        "        else:\n",
        "            new_action_arg = torch.randint(0,number_actions,(1,))[0]\n",
        "            #print(\"\\n B: \", new_action_arg)\n",
        "        #print(\"New action arg: \", new_action_arg)\n",
        "        #print(\"S: \", S)\n",
        "        #print(\"Action arg: \", action_arg)\n",
        "        new_action = Actions[new_action_arg]\n",
        "        \n",
        "        delta = reward + gamma * Q[new_S[0], new_S[1], new_action_arg ] - Q[S[0], S[1], action_arg ]\n",
        "        #deltas.append(delta)\n",
        "        deltas = torch.cat([deltas, delta ])\n",
        "\n",
        "        # increment state in ET (accumulating traces technique )\n",
        "\n",
        "        #ET[S[0], S[1], action_arg ] +=1\n",
        "        ET[S[0], S[1], action_arg ] = 1\n",
        "        # Update Q function\n",
        "        Q = Q + alpha*delta*ET\n",
        "        # Update ET matrix\n",
        "        ET = l*gamma*ET\n",
        "\n",
        "        S = new_S\n",
        "        action = new_action\n",
        "        #print(\"\\n \", action)\n",
        "        action_arg = torch.argwhere((Actions == action).all(axis=1))[0]\n",
        "    mean_delta = torch.mean(deltas)\n",
        "    var_delta = torch.var(deltas)\n",
        "    \n",
        "    \n",
        "    try:\n",
        "        means = torch.cat([means, torch.tensor([mean_delta])]) \n",
        "        vars = torch.cat([vars, torch.tensor([var_delta])]) \n",
        "        cumm_reward = torch.cat([cumm_reward, torch.tensor([cum_r])]) \n",
        "    except:\n",
        "        means = torch.tensor([mean_delta])\n",
        "        vars = torch.tensor([var_delta])\n",
        "        cumm_reward = torch.tensor([cum_r])\n",
        "\n",
        "    #print(torch.cat([stats[0], torch.tensor([mean_delta])]))\n",
        "    #stats = torch.tensor([  torch.cat([stats[0], torch.tensor([mean_delta])]),\n",
        "                          #torch.cat([stats[1], torch.tensor([var_delta])])   ])\n",
        "\n",
        "    #try:\n",
        "    #    stats = torch.tensor([torch.cat([stats[0], torch.tensor(mean_delta)]), torch.cat([stats[1], torch.tensor(var_delta)])])\n",
        "    #except:\n",
        "    #    stats = torch.tensor([[mean_delta], [var_delta]])\n",
        "    #stats[0].append(mean_delta)\n",
        "    #stats[1].append(var_delta)\n"
      ]
    },
    {
      "cell_type": "code",
      "source": [
        "fig, ax = pyplot.subplots()\n",
        "im = ax.imshow(torch.max(Q, axis=2).values)"
      ],
      "metadata": {
        "colab": {
          "base_uri": "https://localhost:8080/",
          "height": 266
        },
        "id": "IkjNZRjtW9TW",
        "outputId": "7268fe8c-9e3f-4e50-c222-afec151a82cd"
      },
      "execution_count": 67,
      "outputs": [
        {
          "output_type": "display_data",
          "data": {
            "text/plain": [
              "<Figure size 432x288 with 1 Axes>"
            ],
            "image/png": "[encoded data removed]"
          },
          "metadata": {
            "needs_background": "light"
          }
        }
      ]
    },
    {
      "cell_type": "code",
      "source": [
        "cumm_reward"
      ],
      "metadata": {
        "colab": {
          "base_uri": "https://localhost:8080/"
        },
        "id": "KP7siIrNcg9J",
        "outputId": "78729f03-e605-4d3d-f1e7-0b0062cbd937"
      },
      "execution_count": null,
      "outputs": [
        {
          "output_type": "execute_result",
          "data": {
            "text/plain": [
              "tensor([-2897,  -443,   -93,  -752, -1243,  -314,  -637,  -436,   -87, -1380,\n",
              "         -889,  -416,  -321,  -407,  -234,  -374,  -332, -1006,  -457,   -67,\n",
              "         -141,     0,  -222, -1578,   -41,  -369,  -438,   -68,  -243,  -104,\n",
              "         -154, -1195,   -63,  -568,  -462,  -584,    -2,  -536,  -195,   -93,\n",
              "          -24,  -182,  -150,   -47,  -272,  -330,    -3,   -53,  -473, -1019,\n",
              "         -822,  -164,     1,   -61,   -56,  -559,  -563,  -263,  -117,  -214,\n",
              "         -435,   -55,  -213,   -53,  -188,  -347,    -6,  -330,   -72,  -703,\n",
              "         -487,   -47,   -35,  -292,   -48,  -307,     0,   -45,  -290,     2,\n",
              "          -92,  -108,  -470,  -777,  -163,   -17,  -131,  -336,  -172,  -249,\n",
              "          -27,   -12,  -451,  -352,  -104,  -408,  -352,   -63,   -59,  -343])"
            ]
          },
          "metadata": {},
          "execution_count": 38
        }
      ]
    },
    {
      "cell_type": "code",
      "source": [
        "pyplot.plot(cumm_reward)"
      ],
      "metadata": {
        "colab": {
          "base_uri": "https://localhost:8080/",
          "height": 282
        },
        "id": "FIDr11Z1XROq",
        "outputId": "9545e282-89b9-4668-8de4-a87e8bdf3d7e"
      },
      "execution_count": null,
      "outputs": [
        {
          "output_type": "execute_result",
          "data": {
            "text/plain": [
              "[<matplotlib.lines.Line2D at 0x7f4224b65fd0>]"
            ]
          },
          "metadata": {},
          "execution_count": 31
        },
        {
          "output_type": "display_data",
          "data": {
            "text/plain": [
              "<Figure size 432x288 with 1 Axes>"
            ],
            "image/png": "[encoded data removed]"
          },
          "metadata": {
            "needs_background": "light"
          }
        }
      ]
    },
    {
      "cell_type": "code",
      "source": [
        "pyplot.plot(vars)"
      ],
      "metadata": {
        "colab": {
          "base_uri": "https://localhost:8080/",
          "height": 282
        },
        "id": "esiX8OaCXRig",
        "outputId": "68e9b5b9-4da7-41cb-8526-4da565899912"
      },
      "execution_count": null,
      "outputs": [
        {
          "output_type": "execute_result",
          "data": {
            "text/plain": [
              "[<matplotlib.lines.Line2D at 0x7f4224c71290>]"
            ]
          },
          "metadata": {},
          "execution_count": 28
        },
        {
          "output_type": "display_data",
          "data": {
            "text/plain": [
              "<Figure size 432x288 with 1 Axes>"
            ],
            "image/png": "[encoded data removed]"
          },
          "metadata": {
            "needs_background": "light"
          }
        }
      ]
    },
    {
      "cell_type": "code",
      "source": [
        ""
      ],
      "metadata": {
        "id": "shkKBbjzaZU6"
      },
      "execution_count": null,
      "outputs": []
    }
  ]
}