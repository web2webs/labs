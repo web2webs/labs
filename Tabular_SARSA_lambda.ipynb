{
  "nbformat": 4,
  "nbformat_minor": 0,
  "metadata": {
    "colab": {
      "name": "Tabular SARSA lambda.ipynb",
      "provenance": [],
      "collapsed_sections": [],
      "authorship_tag": "ABX9TyOXzj6B67LgtHqFID7Lbz6P",
      "include_colab_link": true
    },
    "kernelspec": {
      "name": "python3",
      "display_name": "Python 3"
    },
    "language_info": {
      "name": "python"
    }
  },
  "cells": [
    {
      "cell_type": "markdown",
      "metadata": {
        "id": "view-in-github",
        "colab_type": "text"
      },
      "source": [
        "<a href=\"https://colab.research.google.com/github/web2webs/labs/blob/main/Tabular_SARSA_lambda.ipynb\" target=\"_parent\"><img src=\"https://colab.research.google.com/assets/colab-badge.svg\" alt=\"Open In Colab\"/></a>"
      ]
    },
    {
      "cell_type": "code",
      "execution_count": 2,
      "metadata": {
        "id": "35FhWaCIOoYj"
      },
      "outputs": [],
      "source": [
        "import numpy as np"
      ]
    },
    {
      "cell_type": "code",
      "source": [
        "# generate random map with source and destination, and size map_size by map_size\n",
        "\n",
        "map_size = 10\n",
        "destination = np.array([4,4]) #np.random.random_integers(0, map_size-1, 2)\n",
        "\n",
        "game_map = np.zeros((map_size, map_size)) \n",
        "game_map[destination[0], destination[1]] = 1\n",
        "print(game_map)"
      ],
      "metadata": {
        "colab": {
          "base_uri": "https://localhost:8080/"
        },
        "id": "5E2zq12dOw5I",
        "outputId": "f91e7b45-4eb6-410a-cdb4-31f4fe256bd0"
      },
      "execution_count": 3,
      "outputs": [
        {
          "output_type": "stream",
          "name": "stdout",
          "text": [
            "[[0. 0. 0. 0. 0. 0. 0. 0. 0. 0.]\n",
            " [0. 0. 0. 0. 0. 0. 0. 0. 0. 0.]\n",
            " [0. 0. 0. 0. 0. 0. 0. 0. 0. 0.]\n",
            " [0. 0. 0. 0. 0. 0. 0. 0. 0. 0.]\n",
            " [0. 0. 0. 0. 1. 0. 0. 0. 0. 0.]\n",
            " [0. 0. 0. 0. 0. 0. 0. 0. 0. 0.]\n",
            " [0. 0. 0. 0. 0. 0. 0. 0. 0. 0.]\n",
            " [0. 0. 0. 0. 0. 0. 0. 0. 0. 0.]\n",
            " [0. 0. 0. 0. 0. 0. 0. 0. 0. 0.]\n",
            " [0. 0. 0. 0. 0. 0. 0. 0. 0. 0.]]\n"
          ]
        }
      ]
    },
    {
      "cell_type": "code",
      "source": [
        ""
      ],
      "metadata": {
        "id": "J5GrlbtdPLUa"
      },
      "execution_count": 3,
      "outputs": []
    },
    {
      "cell_type": "code",
      "source": [
        "number_actions = 4\n",
        "Q = np.random.random((map_size, map_size, number_actions)) #np.zeros((map_size, map_size, number_actions)) #\n",
        "\n",
        "Actions = np.array([[0, -1], [0, 1],[-1, 0],[1, 0]]) # np.array([[1, 0], [0, 1]]) #\n",
        "eps = 0.1 # not following strategy probability, exploration rate\n",
        "gamma = 0.9 # discount factor\n",
        "alpha = 0.01 # learning rate\n",
        "l = 0.1 # TD learning parameter\n",
        "\n",
        "stats = [[], []]\n",
        "for i in range(1000):\n",
        "    #print (\"iteration: \", i)\n",
        "    # initialize the ET (elegibility traces) matrix with zerose\n",
        "    ET = np.zeros((map_size, map_size, number_actions))\n",
        "    deltas = []\n",
        "    while True:\n",
        "        # select starting state\n",
        "        S = np.random.random_integers(0, map_size-1, 2)\n",
        "        if (destination != S).all():\n",
        "            break\n",
        "    # select random starting action\n",
        "    action_arg = np.random.choice(list(range(number_actions)),1)[0]\n",
        "    action = Actions[action_arg]\n",
        "    while (destination != S).any():\n",
        "        # take action A in state S to move to next state new_S\n",
        "        new_S = (S + action + 10)%10\n",
        "        if (destination == new_S).all() :\n",
        "            reward = 10\n",
        "        else:\n",
        "            reward = 0\n",
        "        # Select the best action in new_state following the Q function and the epsilon gredy strategy \n",
        "        from_Q = np.random.choice([True, False], p= [1-eps, eps])\n",
        "        \n",
        "        if from_Q:\n",
        "            new_action_arg = np.argmax(Q[new_S[0], new_S[1]])\n",
        "        else:\n",
        "            new_action_arg = np.random.choice(list(range(number_actions)),1)[0]\n",
        "        \n",
        "        new_action = Actions[new_action_arg]\n",
        "        \n",
        "        delta = reward + gamma * Q[new_S[0], new_S[1], new_action_arg ] - Q[S[0], S[1], action_arg ]\n",
        "        deltas.append(delta)\n",
        "\n",
        "        # increment state in ET (accumulating traces technique )\n",
        "\n",
        "        #ET[S[0], S[1], action_arg ] +=1\n",
        "        ET[S[0], S[1], action_arg ] = 1\n",
        "        # Update Q function\n",
        "        Q = Q + alpha*delta*ET\n",
        "        # Update ET matrix\n",
        "        ET = l*gamma*ET\n",
        "\n",
        "        S = new_S\n",
        "        action = new_action\n",
        "    mean_delta = np.mean(deltas)\n",
        "    var_delta = np.var(deltas)\n",
        "    stats[0].append(mean_delta)\n",
        "    stats[1].append(var_delta)\n"
      ],
      "metadata": {
        "colab": {
          "base_uri": "https://localhost:8080/"
        },
        "id": "ERVmJm3tPhV-",
        "outputId": "cd7dd03e-daee-4a8e-8231-1eca16bd7177"
      },
      "execution_count": 11,
      "outputs": [
        {
          "output_type": "stream",
          "name": "stderr",
          "text": [
            "/usr/local/lib/python3.7/dist-packages/ipykernel_launcher.py:18: DeprecationWarning: This function is deprecated. Please call randint(0, 9 + 1) instead\n"
          ]
        }
      ]
    },
    {
      "cell_type": "code",
      "source": [
        "mapper =  {0:\"↑\",1:\"↓\",2:\"←\",3:\"→\"} #{1:\"↓\",0:\"→\"} #\n",
        "moves = np.apply_along_axis(lambda x : mapper[np.argmax(x)], 2, Q)\n",
        "print(moves)"
      ],
      "metadata": {
        "colab": {
          "base_uri": "https://localhost:8080/"
        },
        "id": "js4iEFjizGis",
        "outputId": "28a22cea-dc24-47e3-e689-93232c21237d"
      },
      "execution_count": 5,
      "outputs": [
        {
          "output_type": "stream",
          "name": "stdout",
          "text": [
            "[['←' '←' '↓' '↓' '↓' '↓' '↓' '←' '←' '←']\n",
            " ['↓' '↓' '→' '→' '↑' '↓' '↓' '←' '←' '→']\n",
            " ['←' '↓' '↑' '↑' '→' '↓' '↑' '←' '↑' '↑']\n",
            " ['→' '↑' '←' '←' '↓' '↑' '↓' '↓' '→' '→']\n",
            " ['↓' '↑' '←' '↑' '↑' '→' '↑' '→' '→' '↓']\n",
            " ['↓' '→' '↑' '↑' '↑' '↑' '↑' '↓' '↑' '←']\n",
            " ['↑' '←' '→' '↑' '↓' '↓' '↓' '↓' '↓' '→']\n",
            " ['↑' '→' '↓' '↓' '→' '←' '↑' '↑' '↓' '↓']\n",
            " ['↑' '↓' '↑' '↓' '↓' '↑' '↓' '↓' '↑' '↓']\n",
            " ['↑' '→' '↓' '↓' '↓' '↓' '↓' '↓' '→' '←']]\n"
          ]
        }
      ]
    },
    {
      "cell_type": "code",
      "source": [
        "from matplotlib import pyplot"
      ],
      "metadata": {
        "id": "6da5FtZMzT4y"
      },
      "execution_count": 6,
      "outputs": []
    },
    {
      "cell_type": "code",
      "source": [
        "pyplot.plot(stats[0])"
      ],
      "metadata": {
        "colab": {
          "base_uri": "https://localhost:8080/",
          "height": 282
        },
        "id": "ycL9vZGh0EYi",
        "outputId": "1ff8e83f-9cf0-4141-ee06-ab7150948fea"
      },
      "execution_count": 7,
      "outputs": [
        {
          "output_type": "execute_result",
          "data": {
            "text/plain": [
              "[<matplotlib.lines.Line2D at 0x7f3451472250>]"
            ]
          },
          "metadata": {},
          "execution_count": 7
        },
        {
          "output_type": "display_data",
          "data": {
            "text/plain": [
              "<Figure size 432x288 with 1 Axes>"
            ],
            "image/png": "[encoded data removed]"
          },
          "metadata": {
            "needs_background": "light"
          }
        }
      ]
    },
    {
      "cell_type": "code",
      "source": [
        "pyplot.plot(stats[1])"
      ],
      "metadata": {
        "colab": {
          "base_uri": "https://localhost:8080/",
          "height": 282
        },
        "id": "Shm26Not0Slv",
        "outputId": "d0f06bb7-a62f-4a71-8c15-f1db01c7d555"
      },
      "execution_count": 8,
      "outputs": [
        {
          "output_type": "execute_result",
          "data": {
            "text/plain": [
              "[<matplotlib.lines.Line2D at 0x7f3451ede610>]"
            ]
          },
          "metadata": {},
          "execution_count": 8
        },
        {
          "output_type": "display_data",
          "data": {
            "text/plain": [
              "<Figure size 432x288 with 1 Axes>"
            ],
            "image/png": "[encoded data removed]"
          },
          "metadata": {
            "needs_background": "light"
          }
        }
      ]
    },
    {
      "cell_type": "code",
      "source": [
        ""
      ],
      "metadata": {
        "id": "d4fGnKEa0pfp"
      },
      "execution_count": 10,
      "outputs": []
    },
    {
      "cell_type": "code",
      "source": [
        "fig, ax = pyplot.subplots()\n",
        "im = ax.imshow(np.apply_along_axis(lambda x : np.max(x), 2, Q))\n"
      ],
      "metadata": {
        "colab": {
          "base_uri": "https://localhost:8080/",
          "height": 265
        },
        "id": "2RvaO3wGHnk3",
        "outputId": "2a2a347b-9527-4476-eb7c-b195d8b5daa7"
      },
      "execution_count": 10,
      "outputs": [
        {
          "output_type": "display_data",
          "data": {
            "text/plain": [
              "<Figure size 432x288 with 1 Axes>"
            ],
            "image/png": "[encoded data removed]"
          },
          "metadata": {
            "needs_background": "light"
          }
        }
      ]
    },
    {
      "cell_type": "code",
      "source": [
        ""
      ],
      "metadata": {
        "id": "Xo2bEJA7OoAd"
      },
      "execution_count": null,
      "outputs": []
    }
  ]
}